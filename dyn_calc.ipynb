{
 "cells": [
  {
   "cell_type": "code",
   "execution_count": 3,
   "metadata": {},
   "outputs": [],
   "source": [
    "from sympy import *"
   ]
  },
  {
   "cell_type": "code",
   "execution_count": 5,
   "metadata": {},
   "outputs": [],
   "source": [
    "# Определим функции от T:\n",
    "# Pjx - x координата подшипника\n",
    "# Pjy - y координата подшипника\n",
    "# FAlpha - угол наклонения шеста\n",
    "Pjx, Pjy, FAlpha = symbols('P_{jx} P_{jy} alpha', cls=Function)\n",
    "\n",
    "\n",
    "# Определим переменные:\n",
    "# Alpha - угол наклонения шеста (смотрите ниже, зачем второй угол)\n",
    "# T - время\n",
    "# L - длина шеста\n",
    "# Ajx - ускорение подшипника по X\n",
    "Alpha, T, L, Ajx = symbols('alpha t l A_{jx}')"
   ]
  },
  {
   "cell_type": "markdown",
   "metadata": {},
   "source": [
    "Выразим координаты центра масс шеста через угол и положение подшипника:"
   ]
  },
  {
   "cell_type": "code",
   "execution_count": 7,
   "metadata": {},
   "outputs": [],
   "source": [
    "p_cx = Pjx(T) + L/2 * sin(FAlpha(T))\n",
    "p_cy = Pjy(T) + L/2 * cos(FAlpha(T))"
   ]
  },
  {
   "cell_type": "code",
   "execution_count": 10,
   "metadata": {},
   "outputs": [],
   "source": [
    "# A_alpha - угловое ускорение\n",
    "# Omega - угловая скорость\n",
    "A_alpha, Omega = symbols('A_{alpha} omega')"
   ]
  },
  {
   "cell_type": "markdown",
   "metadata": {},
   "source": [
    "Теперь посчитаем $$\\frac{d^2p_{cx}}{dT^2}$$ и \n",
    "$$\\frac{d^2p_{cy}}{dT^2}$$"
   ]
  },
  {
   "cell_type": "code",
   "execution_count": 84,
   "metadata": {},
   "outputs": [],
   "source": [
    "a_cx, a_cy = map(lambda e: e.diff(T).diff(T), [p_cx, p_cy])"
   ]
  },
  {
   "cell_type": "code",
   "execution_count": 85,
   "metadata": {},
   "outputs": [
    {
     "data": {
      "text/latex": [
       "$\\displaystyle - \\frac{l \\sin{\\left(\\alpha{\\left(t \\right)} \\right)} \\left(\\frac{d}{d t} \\alpha{\\left(t \\right)}\\right)^{2}}{2} + \\frac{l \\cos{\\left(\\alpha{\\left(t \\right)} \\right)} \\frac{d^{2}}{d t^{2}} \\alpha{\\left(t \\right)}}{2} + \\frac{d^{2}}{d t^{2}} \\operatorname{P_{jx}}{\\left(t \\right)}$"
      ],
      "text/plain": [
       "-l*sin(alpha(t))*Derivative(alpha(t), t)**2/2 + l*cos(alpha(t))*Derivative(alpha(t), (t, 2))/2 + Derivative(P_{jx}(t), (t, 2))"
      ]
     },
     "execution_count": 85,
     "metadata": {},
     "output_type": "execute_result"
    }
   ],
   "source": [
    "a_cx"
   ]
  },
  {
   "cell_type": "code",
   "execution_count": 86,
   "metadata": {},
   "outputs": [
    {
     "data": {
      "text/latex": [
       "$\\displaystyle - \\frac{l \\sin{\\left(\\alpha{\\left(t \\right)} \\right)} \\frac{d^{2}}{d t^{2}} \\alpha{\\left(t \\right)}}{2} - \\frac{l \\cos{\\left(\\alpha{\\left(t \\right)} \\right)} \\left(\\frac{d}{d t} \\alpha{\\left(t \\right)}\\right)^{2}}{2} + \\frac{d^{2}}{d t^{2}} \\operatorname{P_{jy}}{\\left(t \\right)}$"
      ],
      "text/plain": [
       "-l*sin(alpha(t))*Derivative(alpha(t), (t, 2))/2 - l*cos(alpha(t))*Derivative(alpha(t), t)**2/2 + Derivative(P_{jy}(t), (t, 2))"
      ]
     },
     "execution_count": 86,
     "metadata": {},
     "output_type": "execute_result"
    }
   ],
   "source": [
    "a_cy"
   ]
  },
  {
   "cell_type": "markdown",
   "metadata": {},
   "source": [
    "Для удобства заменим $\\frac{d^2\\alpha(t)}{dt^2}$ на $A_\\alpha$, $\\frac{d\\alpha(t)}{dt}$ на $\\omega$, $\\alpha(t)$ на $\\alpha$,  \n",
    "$\\frac{d^2P_{jx}}{dt^2}$ на $A_{jx}$\n",
    "\n",
    "Еще заметим, что Y-ускорение подшипника равно 0: $\\frac{d^2P_{jy}}{dt^2} = 0$"
   ]
  },
  {
   "cell_type": "code",
   "execution_count": 87,
   "metadata": {},
   "outputs": [],
   "source": [
    "def stage1(e):\n",
    "    e = e.subs(FAlpha(T).diff(T).diff(T), A_alpha)\n",
    "    e = e.subs(FAlpha(T).diff(T), Omega)\n",
    "    e = e.subs(FAlpha(T), Alpha)\n",
    "    e = e.subs(Pjx(T).diff(T).diff(T), Ajx)\n",
    "    e = e.subs(Pjy(T).diff(T).diff(T), 0)\n",
    "    return e\n",
    "\n",
    "a_cx, a_cy = map(stage1, [a_cx, a_cy])"
   ]
  },
  {
   "cell_type": "code",
   "execution_count": 88,
   "metadata": {},
   "outputs": [
    {
     "data": {
      "text/latex": [
       "$\\displaystyle \\frac{A_{alpha} l \\cos{\\left(\\alpha \\right)}}{2} + A_{jx} - \\frac{l \\omega^{2} \\sin{\\left(\\alpha \\right)}}{2}$"
      ],
      "text/plain": [
       "A_{alpha}*l*cos(alpha)/2 + A_{jx} - l*omega**2*sin(alpha)/2"
      ]
     },
     "execution_count": 88,
     "metadata": {},
     "output_type": "execute_result"
    }
   ],
   "source": [
    "a_cx"
   ]
  },
  {
   "cell_type": "code",
   "execution_count": 89,
   "metadata": {},
   "outputs": [
    {
     "data": {
      "text/latex": [
       "$\\displaystyle - \\frac{A_{alpha} l \\sin{\\left(\\alpha \\right)}}{2} - \\frac{l \\omega^{2} \\cos{\\left(\\alpha \\right)}}{2}$"
      ],
      "text/plain": [
       "-A_{alpha}*l*sin(alpha)/2 - l*omega**2*cos(alpha)/2"
      ]
     },
     "execution_count": 89,
     "metadata": {},
     "output_type": "execute_result"
    }
   ],
   "source": [
    "a_cy"
   ]
  },
  {
   "cell_type": "markdown",
   "metadata": {},
   "source": [
    "Запишем динамику центра масс шеста:"
   ]
  },
  {
   "cell_type": "code",
   "execution_count": 90,
   "metadata": {},
   "outputs": [],
   "source": [
    "#G, M_pole, Ajx, Ajy, Tx, Ty = sympy.symbols('G M_{pole} A_{jx} A_{jy} T_x T_y')\n",
    "G, M_pole, Tx, Ty = symbols('G M_{pole} T_x T_y')\n",
    "eq0 = Eq(Tx, M_pole * a_cx)\n",
    "eq1 = Eq(Ty - G*M_pole, M_pole * a_cy)"
   ]
  },
  {
   "cell_type": "markdown",
   "metadata": {},
   "source": [
    "Сила Tx вызывает ускорение a_cx:"
   ]
  },
  {
   "cell_type": "code",
   "execution_count": 91,
   "metadata": {},
   "outputs": [
    {
     "data": {
      "text/latex": [
       "$\\displaystyle T_{x} = M_{pole} \\left(\\frac{A_{alpha} l \\cos{\\left(\\alpha \\right)}}{2} + A_{jx} - \\frac{l \\omega^{2} \\sin{\\left(\\alpha \\right)}}{2}\\right)$"
      ],
      "text/plain": [
       "Eq(T_x, M_{pole}*(A_{alpha}*l*cos(alpha)/2 + A_{jx} - l*omega**2*sin(alpha)/2))"
      ]
     },
     "execution_count": 91,
     "metadata": {},
     "output_type": "execute_result"
    }
   ],
   "source": [
    "eq0"
   ]
  },
  {
   "cell_type": "markdown",
   "metadata": {},
   "source": [
    "Сила Ty совместно с силой тяжести определяет ускорение a_cy:"
   ]
  },
  {
   "cell_type": "code",
   "execution_count": 92,
   "metadata": {},
   "outputs": [
    {
     "data": {
      "text/latex": [
       "$\\displaystyle - G M_{pole} + T_{y} = M_{pole} \\left(- \\frac{A_{alpha} l \\sin{\\left(\\alpha \\right)}}{2} - \\frac{l \\omega^{2} \\cos{\\left(\\alpha \\right)}}{2}\\right)$"
      ],
      "text/plain": [
       "Eq(-G*M_{pole} + T_y, M_{pole}*(-A_{alpha}*l*sin(alpha)/2 - l*omega**2*cos(alpha)/2))"
      ]
     },
     "execution_count": 92,
     "metadata": {},
     "output_type": "execute_result"
    }
   ],
   "source": [
    "eq1"
   ]
  },
  {
   "cell_type": "markdown",
   "metadata": {},
   "source": [
    "X-ускорение подшипника равно ускорению машинки и вызвано внешней силой и силой реакции Tx в подшипнике:"
   ]
  },
  {
   "cell_type": "code",
   "execution_count": 93,
   "metadata": {},
   "outputs": [
    {
     "data": {
      "text/latex": [
       "$\\displaystyle A_{jx} M_{car} = F - T_{x}$"
      ],
      "text/plain": [
       "Eq(A_{jx}*M_{car}, F - T_x)"
      ]
     },
     "execution_count": 93,
     "metadata": {},
     "output_type": "execute_result"
    }
   ],
   "source": [
    "F, M_car = symbols('F M_{car}')\n",
    "eq2 = Eq(M_car * Ajx, F - Tx)\n",
    "eq2"
   ]
  },
  {
   "cell_type": "markdown",
   "metadata": {},
   "source": [
    "Свяжем угловое ускорение и момент сил:"
   ]
  },
  {
   "cell_type": "code",
   "execution_count": 94,
   "metadata": {},
   "outputs": [
    {
     "data": {
      "text/latex": [
       "$\\displaystyle \\frac{A_{alpha} M_{pole} l^{2}}{12} = 0.5 l \\left(- T_{x} \\cos{\\left(\\alpha \\right)} + T_{y} \\sin{\\left(\\alpha \\right)}\\right)$"
      ],
      "text/plain": [
       "Eq(A_{alpha}*M_{pole}*l**2/12, 0.5*l*(-T_x*cos(alpha) + T_y*sin(alpha)))"
      ]
     },
     "execution_count": 94,
     "metadata": {},
     "output_type": "execute_result"
    }
   ],
   "source": [
    "eq3 = Eq(M_pole*L**2 / 12 * A_alpha, 1/2 * L * (Ty * sin(Alpha) - Tx * cos(Alpha)))\n",
    "eq3"
   ]
  },
  {
   "cell_type": "markdown",
   "metadata": {},
   "source": [
    "Подставим в уравнение eq3 выражения для сил реакций в подшипнике, выраженных через уравнения eq0 и eq1"
   ]
  },
  {
   "cell_type": "code",
   "execution_count": 95,
   "metadata": {},
   "outputs": [
    {
     "data": {
      "text/latex": [
       "$\\displaystyle \\frac{A_{alpha} M_{pole} l^{2}}{12} = 0.5 l \\left(\\frac{M_{pole} \\left(- A_{alpha} l \\sin{\\left(\\alpha \\right)} + 2 G - l \\omega^{2} \\cos{\\left(\\alpha \\right)}\\right) \\sin{\\left(\\alpha \\right)}}{2} - \\frac{M_{pole} \\left(A_{alpha} l \\cos{\\left(\\alpha \\right)} + 2 A_{jx} - l \\omega^{2} \\sin{\\left(\\alpha \\right)}\\right) \\cos{\\left(\\alpha \\right)}}{2}\\right)$"
      ],
      "text/plain": [
       "Eq(A_{alpha}*M_{pole}*l**2/12, 0.5*l*(M_{pole}*(-A_{alpha}*l*sin(alpha) + 2*G - l*omega**2*cos(alpha))*sin(alpha)/2 - M_{pole}*(A_{alpha}*l*cos(alpha) + 2*A_{jx} - l*omega**2*sin(alpha))*cos(alpha)/2))"
      ]
     },
     "execution_count": 95,
     "metadata": {},
     "output_type": "execute_result"
    }
   ],
   "source": [
    "eq4 = eq3.subs(Tx, solve(eq0, Tx)[0]).subs(Ty, solve(eq1, Ty)[0])\n",
    "eq4"
   ]
  },
  {
   "cell_type": "markdown",
   "metadata": {},
   "source": [
    "Аналогично в уравнении eq2 избавимся от Tx:"
   ]
  },
  {
   "cell_type": "code",
   "execution_count": 96,
   "metadata": {},
   "outputs": [
    {
     "data": {
      "text/latex": [
       "$\\displaystyle A_{jx} M_{car} = F - \\frac{M_{pole} \\left(A_{alpha} l \\cos{\\left(\\alpha \\right)} + 2 A_{jx} - l \\omega^{2} \\sin{\\left(\\alpha \\right)}\\right)}{2}$"
      ],
      "text/plain": [
       "Eq(A_{jx}*M_{car}, F - M_{pole}*(A_{alpha}*l*cos(alpha) + 2*A_{jx} - l*omega**2*sin(alpha))/2)"
      ]
     },
     "execution_count": 96,
     "metadata": {},
     "output_type": "execute_result"
    }
   ],
   "source": [
    "eq5 = eq2.subs(Tx, solve(eq0, Tx)[0])\n",
    "eq5"
   ]
  },
  {
   "cell_type": "markdown",
   "metadata": {},
   "source": [
    "Решим eq4 и eq5 и найдем ускорение подшипника и угловое ускорение:"
   ]
  },
  {
   "cell_type": "code",
   "execution_count": 97,
   "metadata": {},
   "outputs": [],
   "source": [
    "r = solve([eq4, eq5], [Ajx, A_alpha])"
   ]
  },
  {
   "cell_type": "markdown",
   "metadata": {},
   "source": [
    "Ускорение подшипника:"
   ]
  },
  {
   "cell_type": "code",
   "execution_count": 98,
   "metadata": {},
   "outputs": [
    {
     "data": {
      "text/latex": [
       "$\\displaystyle \\frac{4.0 F - 1.5 G M_{pole} \\sin{\\left(2.0 \\alpha \\right)} + 2.0 M_{pole} l \\omega^{2} \\sin{\\left(\\alpha \\right)}}{4.0 M_{car} + 3.0 M_{pole} \\sin^{2}{\\left(\\alpha \\right)} + M_{pole}}$"
      ],
      "text/plain": [
       "(4.0*F - 1.5*G*M_{pole}*sin(2.0*alpha) + 2.0*M_{pole}*l*omega**2*sin(alpha))/(4.0*M_{car} + 3.0*M_{pole}*sin(alpha)**2 + M_{pole})"
      ]
     },
     "execution_count": 98,
     "metadata": {},
     "output_type": "execute_result"
    }
   ],
   "source": [
    "r[Ajx]"
   ]
  },
  {
   "cell_type": "markdown",
   "metadata": {},
   "source": [
    "Угловое ускорение:"
   ]
  },
  {
   "cell_type": "code",
   "execution_count": 100,
   "metadata": {},
   "outputs": [
    {
     "data": {
      "text/latex": [
       "$\\displaystyle \\frac{6.0 G \\left(M_{car} + M_{pole}\\right) \\sin{\\left(\\alpha \\right)} - 3.0 \\left(2.0 F + M_{pole} l \\omega^{2} \\sin{\\left(\\alpha \\right)}\\right) \\cos{\\left(\\alpha \\right)}}{l \\left(4.0 M_{car} + 3.0 M_{pole} \\sin^{2}{\\left(\\alpha \\right)} + M_{pole}\\right)}$"
      ],
      "text/plain": [
       "(6.0*G*(M_{car} + M_{pole})*sin(alpha) - 3.0*(2.0*F + M_{pole}*l*omega**2*sin(alpha))*cos(alpha))/(l*(4.0*M_{car} + 3.0*M_{pole}*sin(alpha)**2 + M_{pole}))"
      ]
     },
     "execution_count": 100,
     "metadata": {},
     "output_type": "execute_result"
    }
   ],
   "source": [
    "r[A_alpha]"
   ]
  }
 ],
 "metadata": {
  "kernelspec": {
   "display_name": "Python 3",
   "language": "python",
   "name": "python3"
  },
  "language_info": {
   "codemirror_mode": {
    "name": "ipython",
    "version": 3
   },
   "file_extension": ".py",
   "mimetype": "text/x-python",
   "name": "python",
   "nbconvert_exporter": "python",
   "pygments_lexer": "ipython3",
   "version": "3.7.5"
  }
 },
 "nbformat": 4,
 "nbformat_minor": 2
}
